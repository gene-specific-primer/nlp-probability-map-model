{
 "cells": [
  {
   "cell_type": "markdown",
   "metadata": {},
   "source": [
    "# 朴素贝叶斯完成语种检测"
   ]
  },
  {
   "cell_type": "code",
   "execution_count": 1,
   "metadata": {},
   "outputs": [],
   "source": [
    "#读数据\n",
    "in_f = open('data.csv')\n",
    "lines = in_f.readlines()\n",
    "in_f.close()\n",
    "dataset = [(line.strip()[:-3], line.strip()[-2:]) for line in lines]"
   ]
  },
  {
   "cell_type": "code",
   "execution_count": 2,
   "metadata": {},
   "outputs": [
    {
     "data": {
      "text/plain": [
       "[('1 december wereld aids dag voorlichting in zuidafrika over bieten taboes en optimisme',\n",
       "  'nl'),\n",
       " ('1 mill\\xc3\\xb3n de afectados ante las inundaciones en sri lanka unicef est\\xc3\\xa1 distribuyendo ayuda de emergencia srilanka',\n",
       "  'es'),\n",
       " ('1 mill\\xc3\\xb3n de fans en facebook antes del 14 de febrero y paty miki dani y berta se tiran en paraca\\xc3\\xaddas qu\\xc3\\xa9 har\\xc3\\xadas t\\xc3\\xba porunmillondefans',\n",
       "  'es'),\n",
       " ('1 satellite galileo sottoposto ai test presso lesaestec nl galileo navigation space in inglese',\n",
       "  'it'),\n",
       " ('10 der welt sind bei', 'de')]"
      ]
     },
     "execution_count": 2,
     "metadata": {},
     "output_type": "execute_result"
    }
   ],
   "source": [
    "dataset[:5]"
   ]
  },
  {
   "cell_type": "code",
   "execution_count": 3,
   "metadata": {},
   "outputs": [],
   "source": [
    "from sklearn.model_selection import train_test_split\n",
    "x, y = zip(*dataset)\n",
    "x_train, x_test, y_train, y_test = train_test_split(x, y, random_state=1)"
   ]
  },
  {
   "cell_type": "code",
   "execution_count": 4,
   "metadata": {},
   "outputs": [
    {
     "data": {
      "text/plain": [
       "2267"
      ]
     },
     "execution_count": 4,
     "metadata": {},
     "output_type": "execute_result"
    }
   ],
   "source": [
    "len(x_test)"
   ]
  },
  {
   "cell_type": "code",
   "execution_count": 5,
   "metadata": {},
   "outputs": [
    {
     "data": {
      "text/plain": [
       "2267"
      ]
     },
     "execution_count": 5,
     "metadata": {},
     "output_type": "execute_result"
    }
   ],
   "source": [
    "len(y_test)"
   ]
  },
  {
   "cell_type": "code",
   "execution_count": 6,
   "metadata": {},
   "outputs": [
    {
     "data": {
      "text/plain": [
       "6799"
      ]
     },
     "execution_count": 6,
     "metadata": {},
     "output_type": "execute_result"
    }
   ],
   "source": [
    "len(x_train)"
   ]
  },
  {
   "cell_type": "code",
   "execution_count": 10,
   "metadata": {
    "scrolled": true
   },
   "outputs": [
    {
     "name": "stdout",
     "output_type": "stream",
     "text": [
      "['it', 'de', 'de', 'es', 'it', 'es', 'de', 'de', 'en', 'es', 'it', 'it', 'it', 'nl', 'es', 'it', 'de', 'es', 'it', 'en', 'fr', 'de', 'it', 'it', 'de', 'de', 'fr', 'en', 'en', 'nl', 'es', 'it', 'nl', 'de', 'fr', 'fr', 'de', 'en', 'it', 'fr', 'de', 'en', 'en', 'fr', 'nl', 'nl', 'de', 'fr', 'fr', 'fr', 'es', 'fr', 'fr', 'es', 'de', 'it', 'es', 'it', 'es', 'de', 'nl', 'en', 'es', 'it', 'fr', 'it', 'nl', 'en', 'fr', 'de', 'de', 'fr', 'es', 'it', 'de', 'de', 'es', 'de', 'es', 'de', 'it', 'fr', 'de', 'fr', 'fr', 'it', 'es', 'es', 'en', 'fr', 'es', 'en', 'en', 'es', 'en', 'es', 'fr', 'nl', 'fr', 'de', 'en', 'nl', 'it', 'en', 'de', 'en', 'it', 'fr', 'fr', 'de', 'de', 'it', 'fr', 'nl', 'es', 'en', 'it', 'it', 'it', 'it', 'it', 'fr', 'es', 'nl', 'en', 'es', 'de', 'es', 'en', 'it', 'nl', 'de', 'en', 'es', 'fr', 'nl', 'it', 'de', 'it', 'de', 'nl', 'it', 'de', 'it', 'it', 'it', 'en', 'es', 'nl', 'es', 'en', 'en', 'es', 'nl', 'fr', 'fr', 'it', 'fr', 'es', 'nl', 'fr', 'es', 'it', 'en', 'fr', 'it', 'fr', 'fr', 'de', 'de', 'it', 'nl', 'en', 'en', 'fr', 'nl', 'en', 'fr', 'en', 'it', 'fr', 'fr', 'de', 'en', 'es', 'nl', 'it', 'fr', 'es', 'fr', 'it', 'nl', 'de', 'de', 'de', 'es', 'it', 'es', 'de', 'fr', 'nl', 'fr', 'nl', 'de', 'nl', 'it', 'en', 'en', 'nl', 'de', 'nl', 'it', 'es', 'it', 'de', 'es', 'es', 'nl', 'en', 'it', 'fr', 'de', 'en', 'de', 'it', 'en', 'nl', 'nl', 'de', 'nl', 'it', 'fr', 'nl', 'fr', 'nl', 'nl', 'de', 'en', 'it', 'nl', 'en', 'de', 'de', 'es', 'de', 'nl', 'es', 'fr', 'de', 'en', 'nl', 'nl', 'de', 'nl', 'de', 'it', 'fr', 'de', 'de', 'nl', 'nl', 'it', 'it', 'en', 'fr', 'es', 'de', 'en', 'fr', 'en', 'fr', 'fr', 'de', 'en', 'it', 'de', 'de', 'fr', 'nl', 'en', 'nl', 'nl', 'nl', 'fr', 'it', 'fr', 'de', 'fr', 'it', 'de', 'fr', 'it', 'nl', 'de', 'fr', 'es', 'es', 'es', 'en', 'de', 'fr', 'de', 'es', 'de', 'en', 'es', 'it', 'fr', 'es', 'it', 'de', 'nl', 'de', 'fr', 'fr', 'it', 'de', 'it', 'de', 'es', 'fr', 'it', 'nl', 'nl', 'de', 'de', 'de', 'nl', 'en', 'de', 'de', 'en', 'it', 'nl', 'es', 'de', 'de', 'fr', 'nl', 'en', 'de', 'en', 'nl', 'de', 'es', 'en', 'es', 'it', 'fr', 'fr', 'es', 'en', 'de', 'es', 'fr', 'es', 'es', 'it', 'nl', 'fr', 'nl', 'es', 'nl', 'nl', 'it', 'fr', 'de', 'en', 'en', 'nl', 'en', 'es', 'es', 'fr', 'en', 'de', 'es', 'fr', 'it', 'it', 'nl', 'de', 'it', 'de', 'fr', 'en', 'it', 'en', 'it', 'nl', 'fr', 'fr', 'es', 'en', 'en', 'it', 'nl', 'de', 'nl', 'de', 'it', 'nl', 'nl', 'it', 'de', 'it', 'en', 'de', 'nl', 'es', 'nl', 'it', 'fr', 'en', 'nl', 'es', 'nl', 'en', 'de', 'en', 'fr', 'fr', 'es', 'en', 'nl', 'en', 'fr', 'it', 'fr', 'it', 'en', 'nl', 'es', 'de', 'it', 'fr', 'de', 'nl', 'de', 'de', 'nl', 'en', 'en', 'it', 'nl', 'fr', 'es', 'fr', 'nl', 'en', 'de', 'en', 'it', 'es', 'es', 'it', 'it', 'en', 'fr', 'de', 'it', 'nl', 'fr', 'es', 'it', 'nl', 'nl', 'it', 'en', 'it', 'en', 'fr', 'fr', 'en', 'fr', 'es', 'it', 'de', 'fr', 'it', 'es', 'fr', 'es', 'en', 'en', 'de', 'it', 'it', 'nl', 'es', 'fr', 'it', 'fr', 'nl', 'nl', 'it', 'es', 'it', 'nl', 'de', 'it', 'fr', 'it', 'nl', 'de', 'it', 'de', 'de', 'it', 'fr', 'fr', 'de', 'fr', 'es', 'it', 'en', 'nl', 'de', 'it', 'it', 'nl', 'es', 'es', 'en', 'en', 'nl', 'nl', 'es', 'it', 'es', 'es', 'nl', 'es', 'it', 'es', 'fr', 'es', 'en', 'es', 'de', 'de', 'en', 'fr', 'fr', 'nl', 'nl', 'es', 'it', 'nl', 'it', 'de', 'fr', 'it', 'fr', 'fr', 'nl', 'nl', 'it', 'nl', 'fr', 'en', 'nl', 'nl', 'it', 'fr', 'it', 'it', 'de', 'de', 'de', 'nl', 'nl', 'de', 'fr', 'de', 'fr', 'es', 'de', 'it', 'nl', 'es', 'es', 'es', 'de', 'es', 'es', 'es', 'de', 'de', 'nl', 'it', 'fr', 'fr', 'en', 'es', 'it', 'es', 'fr', 'es', 'nl', 'en', 'en', 'de', 'en', 'es', 'fr', 'it', 'en', 'en', 'it', 'it', 'fr', 'fr', 'en', 'nl', 'en', 'it', 'es', 'it', 'de', 'de', 'fr', 'en', 'es', 'es', 'it', 'it', 'it', 'fr', 'es', 'fr', 'fr', 'es', 'de', 'it', 'de', 'en', 'nl', 'nl', 'it', 'de', 'nl', 'nl', 'nl', 'fr', 'nl', 'de', 'nl', 'es', 'fr', 'es', 'de', 'es', 'fr', 'es', 'de', 'de', 'it', 'it', 'de', 'nl', 'es', 'en', 'es', 'nl', 'de', 'en', 'de', 'fr', 'nl', 'es', 'en', 'de', 'nl', 'en', 'it', 'de', 'es', 'it', 'de', 'fr', 'it', 'de', 'nl', 'it', 'es', 'de', 'it', 'nl', 'es', 'nl', 'fr', 'en', 'en', 'de', 'de', 'nl', 'it', 'de', 'de', 'fr', 'nl', 'nl', 'de', 'it', 'en', 'fr', 'de', 'it', 'nl', 'fr', 'fr', 'fr', 'nl', 'nl', 'es', 'es', 'en', 'de', 'de', 'nl', 'fr', 'nl', 'es', 'fr', 'de', 'it', 'en', 'nl', 'es', 'fr', 'fr', 'nl', 'fr', 'nl', 'it', 'es', 'it', 'en', 'es', 'fr', 'nl', 'fr', 'en', 'es', 'it', 'it', 'nl', 'es', 'fr', 'es', 'it', 'it', 'fr', 'de', 'en', 'it', 'nl', 'en', 'fr', 'es', 'nl', 'nl', 'de', 'fr', 'de', 'en', 'it', 'nl', 'de', 'it', 'fr', 'it', 'en', 'es', 'de', 'nl', 'fr', 'nl', 'nl', 'es', 'en', 'de', 'en', 'es', 'it', 'fr', 'nl', 'en', 'en', 'en', 'fr', 'en', 'de', 'en', 'fr', 'nl', 'es', 'fr', 'fr', 'es', 'de', 'en', 'nl', 'it', 'nl', 'fr', 'nl', 'en', 'de', 'nl', 'it', 'de', 'en', 'en', 'de', 'it', 'nl', 'en', 'it', 'fr', 'fr', 'es', 'es', 'fr', 'en', 'nl', 'nl', 'es', 'fr', 'de', 'nl', 'nl', 'nl', 'de', 'fr', 'nl', 'it', 'en', 'it', 'en', 'en', 'en', 'nl', 'it', 'fr', 'it', 'de', 'de', 'de', 'fr', 'it', 'nl', 'en', 'fr', 'fr', 'de', 'de', 'nl', 'en', 'it', 'it', 'nl', 'fr', 'en', 'de', 'it', 'en', 'en', 'it', 'fr', 'it', 'fr', 'de', 'es', 'en', 'es', 'de', 'nl', 'es', 'fr', 'nl', 'nl', 'es', 'it', 'fr', 'nl', 'es', 'en', 'fr', 'es', 'de', 'it', 'it', 'nl', 'nl', 'en', 'es', 'de', 'it', 'nl', 'es', 'es', 'es', 'nl', 'it', 'fr', 'es', 'it', 'es', 'de', 'nl', 'es', 'nl', 'es', 'it', 'it', 'de', 'en', 'en', 'es', 'fr', 'fr', 'fr', 'it', 'en', 'fr', 'de', 'de', 'fr', 'en', 'de', 'nl', 'es', 'en', 'es', 'en', 'it', 'fr', 'nl', 'en', 'es', 'fr', 'nl', 'en', 'es', 'en', 'en', 'en', 'nl', 'de', 'de', 'fr', 'it', 'fr', 'fr', 'nl', 'it', 'fr', 'en', 'fr', 'it', 'en', 'de', 'fr', 'de', 'nl', 'es', 'es', 'en', 'es', 'es', 'nl', 'es', 'es', 'en', 'it', 'fr', 'it', 'de', 'en', 'it', 'de', 'de', 'fr', 'it', 'es', 'nl', 'nl', 'nl', 'fr', 'es', 'it', 'de', 'de', 'es', 'en', 'en', 'es', 'it', 'en', 'en', 'de', 'fr', 'en', 'fr', 'de', 'nl', 'fr', 'es', 'nl', 'de', 'es', 'fr', 'de', 'de', 'it', 'it', 'it', 'de', 'de', 'fr', 'en', 'nl', 'fr', 'en', 'en', 'en', 'en', 'it', 'nl', 'en', 'en', 'nl', 'fr', 'de', 'nl', 'de', 'nl', 'fr', 'fr', 'de', 'en', 'fr', 'nl', 'it', 'it', 'en', 'en', 'nl', 'fr', 'es', 'de', 'es', 'nl', 'it', 'it', 'nl', 'de', 'nl', 'de', 'es', 'es', 'de', 'en', 'es', 'en', 'en', 'es', 'de', 'en', 'fr', 'de', 'fr', 'nl', 'de', 'nl', 'de', 'en', 'nl', 'en', 'fr', 'de', 'fr', 'en', 'it', 'it', 'de', 'en', 'nl', 'fr', 'fr', 'nl', 'fr', 'en', 'it', 'en', 'it', 'es', 'fr', 'en', 'it', 'de', 'it', 'de', 'it', 'fr', 'de', 'nl', 'it', 'fr', 'nl', 'it', 'nl', 'en', 'it', 'nl', 'en', 'en', 'fr', 'de', 'es', 'en', 'fr', 'es', 'it', 'en', 'it', 'en', 'de', 'it', 'es', 'es', 'it', 'fr', 'es', 'en', 'fr', 'es', 'nl', 'de', 'it', 'en', 'fr', 'it', 'fr', 'nl', 'fr', 'de', 'es', 'fr', 'de', 'de', 'nl', 'fr', 'it', 'it', 'en', 'it', 'fr', 'es', 'en', 'de', 'fr', 'nl', 'es', 'fr', 'it', 'es', 'de', 'it', 'es', 'en', 'en', 'es', 'en', 'fr', 'de', 'es', 'fr', 'it', 'es', 'nl', 'de', 'de', 'it', 'fr', 'en', 'de', 'nl', 'es', 'en', 'es', 'en', 'nl', 'en', 'it', 'fr', 'en', 'es', 'it', 'en', 'it', 'es', 'fr', 'fr', 'es', 'nl', 'it', 'es', 'nl', 'fr', 'nl', 'it', 'es', 'en', 'fr', 'fr', 'en', 'nl', 'fr', 'es', 'nl', 'nl', 'es', 'es', 'de', 'en', 'en', 'nl', 'es', 'it', 'es', 'fr', 'nl', 'en', 'it', 'es', 'es', 'fr', 'it', 'it', 'es', 'es', 'nl', 'en', 'nl', 'de', 'de', 'de', 'en', 'it', 'de', 'it', 'fr', 'nl', 'it', 'it', 'nl', 'es', 'en', 'nl', 'nl', 'it', 'de', 'nl', 'de', 'it', 'de', 'nl', 'es', 'de', 'en', 'fr', 'es', 'en', 'nl', 'es', 'es', 'it', 'de', 'de', 'it', 'fr', 'en', 'es', 'de', 'nl', 'fr', 'nl', 'es', 'nl', 'es', 'es', 'it', 'it', 'it', 'nl', 'it', 'de', 'fr', 'fr', 'fr', 'es', 'fr', 'en', 'es', 'es', 'fr', 'nl', 'fr', 'it', 'it', 'it', 'es', 'es', 'en', 'fr', 'fr', 'en', 'it', 'de', 'it', 'es', 'nl', 'fr', 'nl', 'es', 'en', 'de', 'it', 'nl', 'fr', 'it', 'it', 'en', 'fr', 'es', 'nl', 'fr', 'en', 'es', 'es', 'it', 'it', 'es', 'fr', 'es', 'it', 'it', 'es', 'es', 'fr', 'es', 'en', 'nl', 'it', 'en', 'en', 'en', 'it', 'fr', 'fr', 'en', 'es', 'nl', 'es', 'de', 'de', 'en', 'it', 'de', 'fr', 'nl', 'de', 'it', 'fr', 'es', 'es', 'it', 'es', 'nl', 'de', 'nl', 'en', 'it', 'de', 'es', 'es', 'nl', 'it', 'fr', 'fr', 'es', 'fr', 'es', 'de', 'en', 'en', 'de', 'nl', 'it', 'es', 'es', 'it', 'de', 'it', 'fr', 'de', 'fr', 'it', 'nl', 'fr', 'nl', 'it', 'nl', 'it', 'fr', 'es', 'es', 'en', 'nl', 'es', 'de', 'de', 'fr', 'es', 'de', 'en', 'fr', 'es', 'nl', 'es', 'es', 'nl', 'de', 'de', 'en', 'es', 'nl', 'es', 'fr', 'fr', 'fr', 'nl', 'de', 'nl', 'nl', 'en', 'de', 'fr', 'it', 'nl', 'nl', 'en', 'fr', 'nl', 'es', 'en', 'de', 'nl', 'nl', 'fr', 'nl', 'it', 'it', 'fr', 'de', 'it', 'it', 'it', 'fr', 'es', 'nl', 'nl', 'es', 'it', 'es', 'nl', 'it', 'fr', 'nl', 'nl', 'it', 'en', 'es', 'es', 'es', 'fr', 'nl', 'nl', 'fr', 'en', 'fr', 'nl', 'fr', 'es', 'fr', 'nl', 'de', 'en', 'it', 'es', 'nl', 'es', 'nl', 'es', 'es', 'de', 'es', 'nl', 'de', 'es', 'it', 'en', 'fr', 'de', 'de', 'fr', 'en', 'it', 'nl', 'nl', 'fr', 'en', 'it', 'en', 'es', 'fr', 'de', 'fr', 'fr', 'fr', 'it', 'it', 'de', 'it', 'en', 'de', 'nl', 'nl', 'en', 'de', 'fr', 'fr', 'es', 'it', 'de', 'fr', 'es', 'de', 'es', 'es', 'it', 'nl', 'fr', 'es', 'it', 'de', 'nl', 'es', 'nl', 'es', 'en', 'de', 'de', 'de', 'it', 'it', 'fr', 'fr', 'nl', 'en', 'nl', 'en', 'de', 'de', 'it', 'fr', 'nl', 'es', 'en', 'es', 'it', 'nl', 'en', 'en', 'fr', 'fr', 'de', 'de', 'de', 'en', 'it', 'fr', 'es', 'en', 'fr', 'en', 'fr', 'en', 'es', 'en', 'en', 'es', 'de', 'it', 'it', 'it', 'fr', 'de', 'en', 'de', 'de', 'nl', 'en', 'fr', 'en', 'en', 'fr', 'it', 'es', 'fr', 'en', 'de', 'en', 'fr', 'nl', 'nl', 'en', 'nl', 'nl', 'en', 'es', 'it', 'fr', 'it', 'fr', 'fr', 'de', 'es', 'en', 'de', 'it', 'en', 'de', 'it', 'it', 'nl', 'it', 'nl', 'fr', 'it', 'nl', 'fr', 'fr', 'it', 'es', 'es', 'es', 'es', 'de', 'es', 'de', 'es', 'nl', 'en', 'es', 'de', 'fr', 'de', 'es', 'nl', 'en', 'de', 'fr', 'es', 'it', 'nl', 'en', 'nl', 'de', 'nl', 'es', 'en', 'en', 'fr', 'es', 'fr', 'fr', 'nl', 'es', 'en', 'de', 'en', 'en', 'fr', 'it', 'it', 'nl', 'nl', 'de', 'it', 'it', 'en', 'nl', 'de', 'nl', 'fr', 'nl', 'it', 'de', 'es', 'nl', 'nl', 'es', 'es', 'nl', 'nl', 'fr', 'fr', 'fr', 'es', 'de', 'es', 'en', 'en', 'en', 'en', 'en', 'fr', 'nl', 'fr', 'nl', 'en', 'fr', 'fr', 'de', 'it', 'fr', 'de', 'es', 'en', 'fr', 'it', 'it', 'fr', 'en', 'es', 'fr', 'it', 'de', 'en', 'de', 'fr', 'nl', 'de', 'de', 'fr', 'en', 'de', 'fr', 'es', 'nl', 'nl', 'en', 'fr', 'nl', 'en', 'fr', 'en', 'nl', 'es', 'de', 'fr', 'nl', 'en', 'it', 'fr', 'es', 'es', 'it', 'it', 'fr', 'nl', 'en', 'es', 'nl', 'de', 'it', 'fr', 'it', 'de', 'fr', 'es', 'es', 'de', 'es', 'it', 'de', 'de', 'de', 'en', 'es', 'it', 'de', 'nl', 'en', 'de', 'es', 'es', 'it', 'en', 'it', 'de', 'fr', 'en', 'es', 'it', 'de', 'en', 'en', 'en', 'fr', 'en', 'fr', 'de', 'es', 'nl', 'fr', 'it', 'it', 'nl', 'nl', 'it', 'es', 'fr', 'es', 'de', 'fr', 'de', 'nl', 'es', 'en', 'nl', 'it', 'es', 'it', 'nl', 'es', 'it', 'de', 'es', 'es', 'es', 'es', 'it', 'it', 'de', 'de', 'es', 'fr', 'en', 'en', 'it', 'es', 'nl', 'de', 'nl', 'fr', 'en', 'it', 'nl', 'es', 'de', 'nl', 'nl', 'es', 'fr', 'de', 'it', 'nl', 'fr', 'it', 'it', 'nl', 'en', 'nl', 'en', 'fr', 'de', 'it', 'es', 'de', 'es', 'fr', 'en', 'nl', 'nl', 'en', 'it', 'en', 'fr', 'es', 'de', 'fr', 'fr', 'de', 'es', 'it', 'fr', 'es', 'it', 'en', 'nl', 'fr', 'it', 'fr', 'en', 'fr', 'nl', 'nl', 'de', 'es', 'es', 'de', 'it', 'es', 'fr', 'nl', 'es', 'de', 'nl', 'it', 'en', 'en', 'de', 'de', 'de', 'fr', 'fr', 'de', 'fr', 'es', 'it', 'fr', 'en', 'en', 'de', 'de', 'nl', 'nl', 'de', 'it', 'it', 'en', 'nl', 'en', 'en', 'de', 'en', 'es', 'en', 'fr', 'en', 'fr', 'es', 'fr', 'de', 'fr', 'es', 'es', 'it', 'es', 'it', 'de', 'nl', 'de', 'nl', 'fr', 'fr', 'nl', 'de', 'fr', 'de', 'nl', 'de', 'nl', 'nl', 'es', 'de', 'en', 'de', 'nl', 'en', 'de', 'nl', 'en', 'nl', 'it', 'en', 'es', 'de', 'es', 'de', 'fr', 'de', 'fr', 'es', 'en', 'en', 'de', 'fr', 'de', 'es', 'fr', 'nl', 'en', 'fr', 'de', 'fr', 'nl', 'en', 'it', 'fr', 'de', 'nl', 'en', 'en', 'nl', 'it', 'en', 'de', 'it', 'fr', 'nl', 'en', 'nl', 'de', 'fr', 'it', 'it', 'es', 'es', 'de', 'de', 'de', 'es', 'de', 'en', 'nl', 'nl', 'fr', 'en', 'it', 'it', 'it', 'it', 'en', 'de', 'fr', 'fr', 'de', 'en', 'nl', 'fr', 'es', 'fr', 'es', 'fr', 'es', 'nl', 'nl', 'es', 'en', 'fr', 'nl', 'nl', 'nl', 'de', 'de', 'de', 'en', 'nl', 'it', 'es', 'nl', 'fr', 'en', 'de', 'de', 'fr', 'it', 'it', 'de', 'fr', 'de', 'nl', 'it', 'fr', 'en', 'en', 'fr', 'en', 'fr', 'de', 'fr', 'it', 'en', 'es', 'de', 'es', 'en', 'es', 'en', 'de', 'fr', 'es', 'nl', 'es', 'fr', 'en', 'es', 'nl', 'de', 'es', 'nl', 'it', 'fr', 'es', 'es', 'en', 'it', 'nl', 'fr', 'de', 'fr', 'it', 'fr', 'de', 'es', 'es', 'nl', 'nl', 'fr', 'it', 'es', 'es', 'it', 'it', 'fr', 'es', 'es', 'de', 'fr', 'fr', 'fr', 'it', 'it', 'en', 'fr', 'de', 'nl', 'fr', 'nl', 'fr', 'de', 'it', 'fr', 'it', 'it', 'nl', 'de', 'es', 'nl', 'it', 'de', 'nl', 'fr', 'it', 'de', 'es', 'fr', 'nl', 'es', 'fr', 'nl', 'nl', 'es', 'en', 'de', 'it', 'nl', 'en', 'en', 'it', 'fr', 'nl', 'fr', 'es', 'fr', 'en', 'it', 'fr', 'fr', 'en', 'fr', 'es', 'fr', 'fr', 'it', 'es', 'en', 'nl', 'es', 'nl', 'fr', 'it', 'de', 'nl', 'it', 'de', 'fr', 'de', 'it', 'nl', 'fr', 'fr', 'it', 'de', 'fr', 'en', 'de', 'de', 'de', 'fr', 'fr', 'de', 'es', 'nl', 'en', 'de', 'en', 'es', 'fr', 'en', 'en', 'es', 'es', 'de', 'de', 'en', 'it', 'it', 'fr', 'en', 'en', 'nl', 'it', 'es', 'fr', 'de', 'it', 'en', 'fr', 'es', 'fr', 'de', 'en', 'en', 'de', 'fr', 'nl', 'fr', 'es', 'es', 'de', 'en', 'nl', 'fr', 'nl', 'es', 'fr', 'en', 'es', 'de', 'fr', 'es', 'nl', 'nl', 'it', 'it', 'nl', 'en', 'de', 'en', 'fr', 'it', 'de', 'en', 'it', 'de', 'nl', 'es', 'fr', 'fr', 'de', 'it', 'fr', 'it', 'it', 'es', 'es', 'en', 'fr', 'es', 'de', 'en', 'nl', 'it', 'fr', 'es', 'de', 'it', 'it', 'en', 'it', 'it', 'de', 'nl', 'en', 'es', 'it', 'nl', 'it', 'en', 'de', 'de', 'it', 'de', 'nl', 'it', 'nl', 'nl', 'nl', 'en', 'de', 'de', 'de', 'fr', 'de', 'nl', 'en', 'fr', 'en', 'it', 'nl', 'de', 'es', 'it', 'en', 'es', 'de', 'de', 'nl', 'fr', 'es', 'en', 'en', 'nl', 'de', 'es', 'nl', 'en', 'en', 'es', 'nl', 'fr', 'es', 'en', 'es', 'en', 'es', 'es', 'fr', 'nl', 'nl', 'es', 'nl', 'fr', 'en', 'es', 'fr', 'es', 'nl', 'nl', 'es', 'es', 'fr', 'es', 'fr', 'it', 'nl', 'fr', 'fr', 'es', 'en', 'nl', 'de', 'en', 'nl', 'it', 'it', 'nl', 'es', 'de', 'en', 'it', 'de', 'nl', 'nl', 'de', 'fr', 'en', 'es', 'es', 'es', 'fr', 'en', 'en', 'es', 'fr', 'es', 'fr', 'nl', 'en', 'es', 'en', 'es', 'nl', 'it', 'it', 'en', 'en', 'fr', 'it', 'de', 'es', 'de', 'nl', 'en', 'de', 'fr', 'de', 'es', 'it', 'de', 'es', 'nl', 'de', 'es', 'de', 'nl', 'de', 'en', 'it', 'fr', 'it', 'en', 'de', 'nl', 'it', 'nl', 'de', 'fr', 'it', 'es', 'it', 'it', 'de', 'fr', 'nl', 'en', 'es', 'nl', 'en', 'es', 'en', 'it', 'es', 'es', 'nl', 'it', 'fr', 'nl', 'it', 'de', 'en', 'it', 'nl', 'de', 'it', 'en', 'fr', 'nl', 'nl', 'en', 'es', 'de', 'nl', 'it', 'de', 'it', 'it', 'es', 'es', 'es', 'nl', 'en', 'es', 'fr', 'it', 'it', 'it', 'fr', 'de', 'fr', 'it', 'fr', 'it', 'it', 'es', 'it', 'es', 'fr', 'es', 'en', 'nl', 'fr', 'nl', 'nl', 'de', 'nl', 'it', 'de', 'it', 'nl', 'en', 'de', 'nl', 'it', 'fr', 'fr', 'en', 'it', 'de', 'nl', 'en', 'fr', 'en', 'nl', 'it', 'fr', 'es', 'en', 'it', 'it', 'de', 'en', 'nl', 'nl', 'it', 'nl', 'en', 'de', 'es', 'fr', 'it', 'it', 'fr', 'it', 'de', 'de', 'nl', 'it', 'de', 'de', 'en', 'es', 'fr', 'fr', 'it', 'fr', 'de', 'fr', 'es', 'en', 'es', 'en', 'de', 'fr', 'it', 'fr', 'en', 'es', 'es', 'es', 'nl', 'en', 'fr', 'en', 'de', 'nl', 'en', 'de', 'nl', 'es', 'it', 'nl', 'en', 'en', 'es', 'en', 'en', 'de', 'it', 'de', 'nl', 'de', 'it', 'it', 'nl', 'en', 'es', 'nl', 'it', 'es', 'de', 'nl', 'nl', 'nl', 'es', 'nl', 'en', 'nl', 'nl', 'es', 'nl', 'es', 'es', 'de', 'nl', 'fr', 'it', 'en', 'de', 'nl', 'es', 'es', 'de', 'de', 'fr', 'nl', 'es', 'de', 'nl', 'de', 'es', 'es', 'fr', 'it', 'de', 'nl', 'de', 'de', 'fr', 'es', 'fr', 'en', 'nl', 'en', 'es', 'it', 'it', 'de', 'nl', 'de', 'es', 'de', 'en', 'nl', 'es', 'en', 'fr', 'en', 'it', 'de', 'fr', 'nl', 'de', 'fr', 'es', 'it', 'es', 'de', 'nl', 'de', 'it', 'de', 'nl', 'en', 'fr', 'nl', 'nl', 'es', 'fr', 'fr', 'nl', 'es', 'it', 'es', 'en', 'it', 'es', 'fr', 'en', 'fr', 'en', 'de', 'it', 'it', 'nl', 'de', 'it', 'es', 'nl', 'it', 'en', 'fr', 'nl', 'fr', 'de', 'fr', 'nl', 'en', 'fr', 'it', 'it', 'de', 'de', 'fr', 'es', 'es', 'fr', 'de', 'es', 'de', 'es', 'es', 'it', 'it', 'it', 'fr', 'en', 'it', 'en', 'it', 'en', 'de', 'it', 'de', 'nl', 'de', 'it', 'fr', 'it', 'fr', 'es', 'en', 'de', 'es', 'fr', 'fr', 'it', 'es', 'es', 'en', 'de', 'it', 'es', 'en', 'fr', 'en', 'nl', 'de', 'es', 'fr', 'nl', 'nl', 'de', 'es', 'en', 'en', 'fr', 'fr', 'it', 'it', 'nl', 'fr', 'it', 'fr', 'en', 'en', 'it', 'es', 'de', 'fr', 'es', 'de', 'nl', 'de', 'fr', 'en', 'fr', 'es', 'es', 'nl', 'de', 'en', 'fr', 'nl', 'nl', 'de', 'it', 'fr', 'nl', 'es', 'en', 'nl', 'es', 'en', 'es', 'fr', 'de', 'de', 'es', 'en', 'it', 'fr', 'en', 'en', 'it', 'fr', 'nl', 'en', 'it', 'fr', 'nl', 'nl', 'fr', 'en', 'it', 'en', 'en', 'fr', 'en', 'fr', 'it', 'fr', 'en', 'nl', 'it', 'en', 'it', 'fr', 'en', 'it', 'es', 'it', 'es', 'de', 'nl', 'fr', 'es', 'en', 'en', 'fr', 'fr', 'fr', 'en', 'nl', 'fr', 'fr', 'es', 'de', 'en', 'it', 'en', 'es', 'it', 'de', 'es', 'fr', 'es', 'fr', 'fr', 'nl', 'de', 'es', 'it', 'de', 'en', 'nl', 'fr', 'de', 'en', 'it', 'es', 'it', 'de', 'fr', 'fr', 'nl', 'en', 'fr', 'it', 'it', 'it', 'en', 'fr', 'it', 'fr', 'it', 'de', 'es', 'de', 'nl', 'en', 'en', 'en', 'it', 'de', 'en', 'es', 'en', 'it', 'es', 'fr', 'de', 'nl', 'fr', 'fr', 'fr', 'en', 'fr', 'es', 'it', 'fr', 'es', 'es', 'de', 'it', 'nl', 'de', 'de', 'en', 'fr', 'it', 'it', 'es', 'de', 'it', 'nl', 'fr', 'fr', 'nl', 'en', 'de', 'it', 'en', 'fr', 'es', 'es', 'de', 'it', 'it', 'de', 'en', 'nl', 'es', 'nl', 'de', 'it', 'de', 'es', 'de', 'fr', 'it', 'fr', 'nl', 'it', 'es', 'nl', 'de', 'it', 'fr', 'es', 'fr', 'de', 'it', 'it', 'es', 'fr', 'it', 'fr', 'nl', 'nl', 'es', 'it', 'it', 'en', 'nl', 'es', 'es', 'de', 'es', 'it', 'es', 'en', 'en', 'it', 'nl', 'it', 'de', 'de', 'nl', 'nl', 'de', 'es', 'nl', 'en', 'de', 'es', 'it', 'es', 'fr', 'fr', 'nl', 'en', 'fr', 'es', 'fr', 'fr', 'it', 'nl', 'de', 'fr', 'it', 'es', 'en', 'fr', 'it', 'en', 'fr', 'en', 'en', 'es', 'es', 'en', 'de', 'nl', 'nl', 'fr', 'fr', 'fr', 'es', 'es', 'it', 'fr', 'es', 'it', 'es', 'es', 'nl', 'it', 'fr', 'de', 'de', 'es', 'en', 'it', 'en', 'de', 'it', 'de', 'fr', 'fr', 'de', 'de', 'it', 'it', 'it', 'nl', 'es', 'it', 'de', 'it', 'it', 'nl', 'nl', 'fr', 'en', 'en', 'en', 'es', 'it', 'de', 'nl', 'fr', 'es', 'de', 'nl', 'it', 'de', 'it', 'de', 'es', 'fr', 'en', 'it', 'es', 'it', 'de', 'es', 'de', 'it', 'es', 'en', 'de', 'nl', 'fr', 'nl', 'fr', 'de', 'de', 'es', 'de', 'it', 'es', 'it', 'fr', 'en', 'it', 'nl', 'es', 'es', 'it', 'fr', 'es', 'es', 'it', 'fr', 'it', 'en', 'nl', 'fr', 'es', 'nl', 'it', 'fr', 'de', 'en', 'es', 'it', 'it', 'en', 'fr', 'en', 'nl', 'de', 'en', 'it', 'de', 'it', 'it', 'it', 'nl', 'nl', 'nl', 'fr', 'de', 'es', 'de', 'it', 'es', 'fr', 'it', 'es', 'en', 'it', 'es', 'fr', 'en', 'it', 'nl', 'es', 'de', 'nl', 'fr', 'en', 'en', 'de', 'de', 'en', 'nl', 'es', 'es', 'en', 'fr', 'nl', 'es', 'it', 'it', 'es', 'fr', 'it', 'en', 'it', 'es', 'nl', 'fr', 'nl', 'fr', 'it', 'en', 'nl', 'nl', 'es', 'en', 'en', 'de', 'de', 'fr', 'de', 'es', 'it', 'es', 'it', 'fr', 'nl', 'de', 'nl', 'it', 'es', 'nl', 'nl', 'es', 'en', 'en', 'it', 'en', 'nl', 'en', 'nl', 'nl', 'nl', 'en', 'it', 'en', 'en', 'de', 'en', 'es', 'de', 'nl', 'en', 'es', 'it', 'en', 'en', 'fr', 'en', 'es', 'fr', 'es', 'de', 'de', 'en', 'es', 'fr', 'it', 'de', 'it', 'fr', 'nl', 'it', 'it', 'fr', 'nl', 'en', 'nl', 'de', 'it', 'fr', 'nl', 'it', 'en', 'fr', 'es', 'fr', 'it', 'es', 'it', 'en', 'en', 'en', 'es', 'nl', 'fr', 'en', 'es', 'de', 'en', 'en', 'nl', 'de', 'it', 'it', 'es', 'fr', 'it', 'es', 'es', 'es', 'it', 'en', 'es', 'en', 'en', 'fr', 'de', 'es', 'de', 'de', 'es', 'nl', 'es', 'es', 'nl', 'es', 'es', 'it', 'it', 'de', 'de', 'fr', 'es', 'fr', 'es', 'it', 'nl', 'it', 'es', 'de', 'it', 'es', 'fr', 'en', 'it', 'it', 'en', 'nl', 'fr', 'es', 'de', 'es', 'de', 'nl', 'fr', 'en', 'de', 'it', 'fr', 'es', 'nl', 'fr', 'it', 'en', 'en', 'de', 'fr', 'it', 'de', 'it', 'es', 'fr', 'en', 'en', 'fr', 'es', 'it', 'it', 'en', 'nl', 'en', 'es', 'es', 'de', 'de', 'it', 'es', 'it', 'de', 'en', 'it', 'it', 'nl', 'de', 'en', 'fr', 'nl', 'en', 'es', 'it', 'it', 'nl', 'nl', 'es', 'fr', 'fr', 'de', 'it', 'nl', 'es', 'fr', 'nl', 'es', 'it', 'fr', 'es', 'es', 'nl', 'fr', 'de', 'es', 'nl', 'es', 'it', 'fr', 'es', 'nl', 'es', 'en', 'de', 'it', 'de', 'fr', 'nl', 'fr', 'de', 'es', 'es', 'it', 'it', 'en', 'nl', 'es', 'es', 'de', 'it', 'es', 'en', 'fr', 'en', 'en', 'nl', 'fr', 'nl', 'fr', 'nl', 'nl', 'es', 'nl', 'es', 'nl', 'de', 'it', 'de', 'it', 'nl', 'en', 'fr', 'fr', 'en', 'nl', 'es', 'fr', 'nl', 'fr', 'de', 'de', 'fr', 'nl', 'en', 'es', 'de', 'es', 'en', 'de', 'nl', 'it', 'es', 'de', 'fr', 'nl', 'fr', 'en', 'en', 'es', 'es', 'es', 'en', 'es', 'en', 'fr', 'en', 'it', 'de', 'it', 'nl', 'es', 'es', 'de', 'de', 'it', 'nl', 'en', 'es', 'fr', 'fr', 'es', 'de', 'nl', 'es', 'it', 'it', 'nl', 'nl', 'de', 'en', 'de', 'it', 'es', 'de', 'en', 'en', 'de', 'fr', 'fr', 'nl', 'de', 'nl', 'en', 'de', 'es', 'nl', 'fr', 'fr', 'nl', 'en', 'de', 'en', 'en', 'nl', 'es', 'en', 'nl', 'de', 'de', 'en', 'it', 'es', 'it', 'de', 'en', 'fr', 'en', 'en', 'de', 'it', 'en', 'nl', 'it', 'de', 'it', 'fr', 'fr', 'de', 'en', 'es', 'en', 'it', 'en', 'fr', 'es', 'de', 'es', 'en', 'en', 'fr', 'it', 'nl', 'fr', 'nl', 'fr', 'de', 'es', 'nl', 'de', 'en', 'fr', 'de', 'en', 'es', 'en', 'it', 'it', 'it', 'en', 'it', 'en', 'nl', 'en', 'nl', 'en', 'de', 'de', 'en', 'en', 'en', 'es', 'de', 'en', 'en', 'nl', 'nl', 'es', 'en', 'en', 'es', 'de', 'it', 'en', 'de', 'nl', 'it', 'nl', 'it', 'it', 'fr', 'it', 'de', 'fr', 'fr', 'en', 'es', 'it', 'it', 'es', 'de', 'de', 'it', 'es', 'es', 'it', 'es', 'en', 'de', 'de', 'en', 'it', 'en', 'de', 'fr', 'de', 'fr', 'it', 'es', 'en', 'nl', 'de', 'fr', 'en', 'it', 'fr', 'es', 'de', 'en', 'es', 'it', 'es', 'de', 'fr', 'nl', 'it', 'fr', 'en', 'fr', 'it', 'es', 'it', 'de', 'en', 'de', 'es', 'de', 'de', 'en', 'fr', 'de', 'it', 'nl', 'fr', 'nl', 'de', 'it', 'en', 'nl', 'nl', 'it', 'fr', 'it', 'nl', 'it', 'it', 'it', 'it', 'nl', 'it', 'nl', 'fr', 'fr', 'nl', 'fr', 'en', 'fr', 'es', 'it', 'it', 'it', 'en', 'de', 'nl', 'es', 'de', 'es', 'es', 'nl', 'de', 'fr', 'fr', 'de', 'fr', 'de', 'it', 'de', 'en', 'es', 'it', 'it', 'es', 'de', 'es', 'nl', 'es', 'it', 'nl', 'nl', 'fr', 'nl', 'de', 'es', 'de', 'en', 'it', 'de', 'en', 'en', 'fr', 'en', 'it', 'nl', 'nl', 'de', 'es', 'fr', 'fr', 'nl', 'en', 'en', 'en', 'nl', 'es', 'en', 'it', 'nl', 'it', 'en', 'fr', 'fr', 'fr', 'en', 'it', 'es', 'fr', 'en', 'nl', 'en', 'de', 'es', 'nl', 'it', 'es', 'es', 'de', 'en', 'nl', 'it', 'nl', 'de', 'de', 'it', 'nl', 'nl', 'fr', 'fr', 'de', 'en', 'en', 'en', 'de', 'en', 'de', 'en', 'nl', 'nl', 'it', 'fr', 'it', 'en', 'es', 'de', 'nl', 'fr', 'es', 'es', 'es', 'nl', 'it', 'nl', 'fr', 'it', 'en', 'nl', 'nl', 'es', 'es', 'en', 'en', 'es', 'it', 'nl', 'fr', 'en', 'it', 'it', 'en', 'en', 'fr', 'es', 'fr', 'en', 'en', 'en', 'it', 'en', 'en', 'es', 'de', 'nl', 'fr', 'fr', 'fr', 'de', 'nl', 'de', 'es', 'en', 'it', 'nl', 'fr', 'es', 'it', 'de', 'it', 'es', 'fr', 'de', 'en', 'es', 'es', 'it', 'en', 'en', 'en', 'de', 'nl', 'fr', 'de', 'fr', 'de', 'it', 'en', 'en', 'it', 'nl', 'en', 'es', 'it', 'en', 'es', 'nl', 'de', 'it', 'en', 'es', 'es', 'en', 'en', 'fr', 'fr', 'fr', 'en', 'it', 'fr', 'en', 'en', 'en', 'fr', 'fr', 'es', 'es', 'es', 'en', 'it', 'nl', 'en', 'it', 'it', 'en', 'nl', 'nl', 'it', 'de', 'fr', 'fr', 'en', 'de', 'fr', 'en', 'en', 'it', 'nl', 'it', 'es', 'es', 'en', 'de', 'it', 'nl', 'en', 'en', 'de', 'nl', 'de', 'nl', 'it', 'it', 'it', 'en', 'de', 'fr', 'fr', 'nl', 'nl', 'de', 'it', 'en', 'es', 'fr', 'en', 'en', 'nl', 'fr', 'en', 'de', 'it', 'en', 'fr', 'it', 'fr', 'nl', 'es', 'nl', 'de', 'en', 'es', 'fr', 'en', 'de', 'fr', 'it', 'it', 'de', 'nl', 'it', 'es', 'en', 'en', 'es', 'it', 'de', 'nl', 'en', 'en', 'de', 'de', 'nl', 'fr', 'en', 'it', 'de', 'en', 'en', 'de', 'en', 'de', 'it', 'nl', 'it', 'de', 'fr', 'es', 'nl', 'en', 'en', 'nl', 'nl', 'de', 'fr', 'fr', 'fr', 'es', 'it', 'es', 'en', 'de', 'fr', 'it', 'nl', 'it', 'fr', 'es', 'es', 'es', 'es', 'en', 'nl', 'nl', 'es', 'es', 'de', 'es', 'it', 'fr', 'fr', 'es', 'it', 'es', 'de', 'fr', 'de', 'it', 'es', 'it', 'es', 'en', 'es', 'it', 'es', 'it', 'de', 'en', 'fr', 'en', 'es', 'it', 'es', 'es', 'fr', 'es', 'es', 'es', 'de', 'nl', 'it', 'fr', 'fr', 'de', 'it', 'es', 'fr', 'en', 'fr', 'nl', 'it', 'nl', 'fr', 'it', 'fr', 'de', 'en', 'it', 'en', 'es', 'en', 'en', 'de', 'es', 'es', 'it', 'de', 'it', 'it', 'es', 'fr', 'en', 'fr', 'it', 'de', 'it', 'en', 'en', 'es', 'fr', 'de', 'nl', 'fr', 'es', 'it', 'en', 'it', 'de', 'nl', 'nl', 'nl', 'en', 'it', 'de', 'fr', 'en', 'es', 'es', 'es', 'nl', 'de', 'fr', 'es', 'es', 'en', 'fr', 'nl', 'es', 'it', 'es', 'en', 'it', 'nl', 'en', 'nl', 'de', 'fr', 'it', 'en', 'nl', 'fr', 'it', 'it', 'en', 'de', 'nl', 'en', 'en', 'en', 'fr', 'de', 'nl', 'es', 'fr', 'es', 'en', 'es', 'en', 'es', 'es', 'en', 'de', 'nl', 'en', 'it', 'en', 'it', 'nl', 'it', 'en', 'de', 'es', 'it', 'en', 'en', 'nl', 'nl', 'es', 'es', 'de', 'es', 'it', 'de', 'es', 'en', 'de', 'de', 'es', 'nl', 'de', 'it', 'de', 'fr', 'nl', 'de', 'nl', 'en', 'fr', 'fr', 'fr', 'fr', 'fr', 'it', 'fr', 'de', 'fr', 'nl', 'fr', 'nl', 'fr', 'nl', 'nl', 'fr', 'de', 'it', 'nl', 'en', 'en', 'it', 'es', 'fr', 'nl', 'de', 'en', 'fr', 'nl', 'es', 'es', 'it', 'fr', 'it', 'it', 'fr', 'fr', 'it', 'fr', 'it', 'en', 'de', 'en', 'nl', 'es', 'en', 'it', 'nl', 'en', 'es', 'de', 'it', 'es', 'fr', 'de', 'es', 'en', 'nl', 'nl', 'nl', 'es', 'fr', 'en', 'de', 'de', 'en', 'nl', 'en', 'de', 'it', 'de', 'it', 'nl', 'fr', 'en', 'it', 'nl', 'es', 'it', 'fr', 'es', 'de', 'en', 'es', 'nl', 'es', 'es', 'de', 'it', 'nl', 'it', 'en', 'nl', 'en', 'it', 'de', 'nl', 'en', 'fr', 'fr', 'de', 'en', 'fr', 'nl', 'en', 'es', 'fr', 'it', 'es', 'es', 'de', 'fr', 'fr', 'it', 'fr', 'it', 'it', 'fr', 'de', 'nl', 'fr', 'es', 'de', 'en', 'de', 'de', 'fr', 'en', 'it', 'es', 'nl', 'es', 'fr', 'it', 'fr', 'de', 'de', 'de', 'it', 'en', 'en', 'de', 'es', 'en', 'es', 'fr', 'es', 'de', 'en', 'fr', 'en', 'de', 'nl', 'en', 'en', 'de', 'de', 'en', 'de', 'it', 'nl', 'en', 'de', 'fr', 'fr', 'nl', 'fr', 'it', 'nl', 'fr', 'es', 'es', 'es', 'fr', 'es', 'de', 'de', 'de', 'fr', 'it', 'en', 'fr', 'fr', 'it', 'de', 'it', 'nl', 'fr', 'nl', 'fr', 'en', 'en', 'it', 'fr', 'it', 'it', 'es', 'it', 'it', 'fr', 'nl', 'fr', 'de', 'en', 'en', 'es', 'it', 'it', 'nl', 'es', 'nl', 'es', 'nl', 'en', 'es', 'es', 'fr', 'it', 'de', 'de', 'it', 'es', 'de', 'fr', 'it', 'en', 'nl', 'de', 'es', 'de', 'fr', 'es', 'nl', 'es', 'it', 'nl', 'nl', 'de', 'es', 'fr', 'fr', 'it', 'it', 'fr', 'es', 'it', 'it', 'nl', 'es', 'es', 'de', 'it', 'en', 'es', 'nl', 'es', 'en', 'it', 'fr', 'it', 'fr', 'it', 'it', 'it', 'de', 'es', 'it', 'en', 'en', 'fr', 'es', 'nl', 'en', 'de', 'es', 'de', 'en', 'es', 'it', 'en', 'de', 'nl', 'de', 'fr', 'nl', 'fr', 'nl', 'en', 'de', 'it', 'es', 'fr', 'it', 'de', 'de', 'fr', 'de', 'nl', 'fr', 'it', 'fr', 'es', 'en', 'en', 'de', 'it', 'nl', 'fr', 'nl', 'en', 'nl', 'nl', 'en', 'fr', 'it', 'es', 'fr', 'de', 'fr', 'fr', 'es', 'en', 'de', 'de', 'fr', 'en', 'it', 'it', 'en', 'de', 'nl', 'en', 'de', 'en', 'en', 'de', 'fr', 'fr', 'de', 'de', 'fr', 'es', 'en', 'en', 'fr', 'fr', 'it', 'it', 'es', 'en', 'it', 'en', 'fr', 'es', 'en', 'it', 'de', 'it', 'es', 'nl', 'it', 'fr', 'es', 'nl', 'fr', 'es', 'fr', 'it', 'nl', 'nl', 'es', 'en', 'en', 'en', 'de', 'en', 'fr', 'en', 'nl', 'de', 'nl', 'it', 'it', 'en', 'en', 'de', 'it', 'de', 'de', 'it', 'nl', 'it', 'it', 'en', 'fr', 'en', 'en', 'es', 'es', 'fr', 'nl', 'nl', 'de', 'fr', 'es', 'en', 'fr', 'es', 'de', 'en', 'en', 'nl', 'it', 'fr', 'en', 'it', 'es', 'nl', 'nl', 'es', 'it', 'de', 'fr', 'it', 'de', 'es', 'it', 'fr', 'en', 'de', 'it', 'es', 'de', 'it', 'fr', 'en', 'nl', 'nl', 'de', 'es', 'fr', 'es', 'fr', 'en', 'nl', 'nl', 'it', 'fr', 'es', 'es', 'fr', 'fr', 'de', 'fr', 'de', 'es', 'es', 'de', 'en', 'es', 'es', 'fr', 'de', 'it', 'nl', 'it', 'nl', 'it', 'fr', 'nl', 'fr', 'de', 'es', 'de', 'it', 'es', 'es', 'es', 'nl', 'it', 'nl', 'fr', 'it', 'nl', 'es', 'nl', 'es', 'nl', 'en', 'es', 'en', 'en', 'en', 'de', 'fr', 'nl', 'nl', 'fr', 'en', 'es', 'it', 'nl', 'es', 'de', 'es', 'fr', 'it', 'fr', 'en', 'nl', 'it', 'en', 'de', 'es', 'en', 'es', 'fr', 'it', 'es', 'it', 'de', 'de', 'fr', 'en', 'nl', 'es', 'it', 'fr', 'fr', 'nl', 'es', 'es', 'en', 'es', 'es', 'fr', 'es', 'en', 'es', 'de', 'nl', 'es', 'nl', 'en', 'de', 'es', 'fr', 'en', 'fr', 'fr', 'de', 'es', 'nl', 'en', 'de', 'it', 'es', 'fr', 'fr', 'it', 'en', 'en', 'fr', 'es', 'de', 'en', 'en', 'it', 'fr', 'de', 'it', 'es', 'de', 'en', 'nl', 'en', 'de', 'en', 'en', 'it', 'de', 'es', 'de', 'es', 'it', 'en', 'nl', 'nl', 'es', 'it', 'de', 'nl', 'de', 'nl', 'es', 'it', 'fr', 'it', 'de', 'en', 'es', 'fr', 'de', 'de', 'fr', 'es', 'fr', 'de', 'de', 'nl', 'nl', 'en', 'fr', 'it', 'nl', 'en', 'de', 'es', 'fr', 'fr', 'fr', 'nl', 'it', 'es', 'en', 'fr', 'en', 'es', 'nl', 'de', 'de', 'nl', 'es', 'fr', 'nl', 'en', 'it', 'it', 'es', 'fr', 'nl', 'nl', 'nl', 'nl', 'fr', 'en', 'nl', 'en', 'es', 'de', 'it', 'it', 'en', 'de', 'nl', 'nl', 'de', 'fr', 'fr', 'es', 'en', 'it', 'es', 'it', 'es', 'nl', 'it', 'es', 'fr', 'en', 'es', 'fr', 'de', 'es', 'fr', 'nl', 'es', 'nl', 'fr', 'en', 'de', 'en', 'it', 'en', 'it', 'de', 'es', 'nl', 'fr', 'fr', 'it', 'fr', 'en', 'es', 'de', 'fr', 'it', 'fr', 'es', 'fr', 'it', 'es', 'en', 'es', 'nl', 'de', 'es', 'es', 'it', 'it', 'it', 'en', 'fr', 'nl', 'en', 'fr', 'nl', 'it', 'de', 'fr', 'it', 'en', 'fr', 'nl', 'es', 'de', 'en', 'es', 'de', 'nl', 'it', 'it', 'fr', 'it', 'es', 'es', 'it', 'it', 'nl', 'it', 'de', 'en', 'en', 'de', 'de', 'de', 'it', 'es', 'de', 'es', 'es', 'es', 'fr', 'nl', 'es', 'es', 'de', 'fr', 'fr', 'en', 'es', 'nl', 'de', 'nl', 'de', 'it', 'fr', 'en', 'en', 'es', 'nl', 'de', 'nl', 'de', 'en', 'it', 'it', 'nl', 'es', 'es', 'nl', 'es', 'en', 'en', 'de', 'de', 'en', 'en', 'nl', 'en', 'nl', 'fr', 'it', 'es', 'es', 'fr', 'es', 'es', 'nl', 'nl', 'nl', 'de', 'it', 'es', 'es', 'es', 'de', 'fr', 'fr', 'es', 'en', 'it', 'es', 'de', 'nl', 'de', 'de', 'nl', 'it', 'fr', 'it', 'en', 'es', 'es', 'nl', 'nl', 'en', 'fr', 'es', 'nl', 'it', 'fr', 'it', 'es', 'nl', 'en', 'de', 'fr', 'es', 'de', 'nl', 'fr', 'es', 'es', 'es', 'de', 'it', 'fr', 'de', 'it', 'de', 'nl', 'nl', 'fr', 'es', 'es', 'es', 'de', 'fr', 'es', 'es', 'it', 'it', 'it', 'nl', 'it', 'fr', 'de', 'it', 'it', 'nl', 'de', 'es', 'es', 'de', 'es', 'nl', 'de', 'it', 'es', 'en', 'es', 'fr', 'nl', 'en', 'es', 'en', 'it', 'it', 'it', 'es', 'en', 'es', 'it', 'fr', 'it', 'en', 'es', 'it', 'fr', 'it', 'es', 'it', 'de', 'fr', 'fr', 'nl', 'de', 'es', 'fr', 'it', 'es', 'it', 'nl', 'es', 'nl', 'it', 'en', 'en', 'es', 'es', 'de', 'it', 'de', 'nl', 'es', 'de', 'nl', 'fr', 'en', 'es', 'de', 'nl', 'fr', 'nl', 'fr', 'it', 'nl', 'de', 'de', 'en', 'nl', 'it', 'en', 'nl', 'it', 'nl', 'es', 'it', 'en', 'en', 'de', 'de', 'en', 'es', 'de', 'de', 'it', 'nl', 'it', 'en', 'es', 'fr', 'de', 'fr', 'de', 'es', 'es', 'fr', 'en', 'en', 'en', 'fr', 'fr', 'de', 'es', 'it', 'en', 'fr', 'de', 'fr', 'fr', 'nl', 'nl', 'nl', 'es', 'fr', 'en', 'en', 'nl', 'fr', 'en', 'en', 'de', 'en', 'es', 'de', 'nl', 'fr', 'nl', 'en', 'it', 'de', 'es', 'en', 'fr', 'es', 'nl', 'fr', 'de', 'it', 'en', 'en', 'de', 'en', 'fr', 'es', 'en', 'fr', 'fr', 'de', 'de', 'fr', 'it', 'it', 'en', 'en', 'es', 'it', 'de', 'es', 'it', 'es', 'es', 'en', 'en', 'it', 'nl', 'en', 'de', 'en', 'fr', 'it', 'en', 'fr', 'de', 'nl', 'en', 'es', 'en', 'en', 'es', 'nl', 'it', 'nl', 'en', 'de', 'it', 'es', 'es', 'de', 'de', 'it', 'de', 'it', 'fr', 'nl', 'it', 'de', 'de', 'de', 'fr', 'nl', 'it', 'es', 'de', 'nl', 'nl', 'nl', 'en', 'de', 'en', 'it', 'nl', 'it', 'fr', 'en', 'de', 'de', 'it', 'fr', 'it', 'en', 'en', 'de', 'it', 'fr', 'de', 'fr', 'en', 'fr', 'en', 'en', 'de', 'en', 'es', 'fr', 'en', 'es', 'de', 'en', 'nl', 'de', 'en', 'nl', 'en', 'en', 'fr', 'es', 'en', 'es', 'es', 'es', 'nl', 'es', 'es', 'it', 'de', 'de', 'de', 'de', 'fr', 'de', 'en', 'de', 'it', 'es', 'nl', 'en', 'fr', 'en', 'de', 'de', 'es', 'nl', 'fr', 'de', 'it', 'es', 'it', 'en', 'nl', 'es', 'nl', 'de', 'es', 'de', 'it', 'it', 'es', 'it', 'it', 'de', 'es', 'it', 'fr', 'it', 'es', 'fr', 'en', 'de', 'es', 'it', 'it', 'en', 'fr', 'en', 'fr', 'nl', 'de', 'es', 'fr', 'it', 'nl', 'nl', 'it', 'fr', 'nl', 'it', 'es', 'en', 'nl', 'nl', 'de', 'es', 'nl', 'nl', 'it', 'it', 'fr', 'en', 'en', 'de', 'en', 'de', 'fr', 'fr', 'fr', 'en', 'nl', 'it', 'fr', 'en', 'it', 'nl', 'es', 'de', 'de', 'de', 'fr', 'fr', 'en', 'fr', 'fr', 'fr', 'de', 'en', 'en', 'fr', 'fr', 'de', 'nl', 'en', 'en', 'en', 'es', 'es', 'es', 'en', 'it', 'fr', 'en', 'it', 'it', 'fr', 'de', 'it', 'de', 'es', 'en', 'it', 'it', 'es', 'es', 'fr', 'es', 'en', 'fr', 'it', 'it', 'en', 'es', 'de', 'de', 'fr', 'de', 'nl', 'nl', 'en', 'fr', 'it', 'de', 'fr', 'es', 'de', 'fr', 'en', 'es', 'nl', 'fr', 'it', 'nl', 'nl', 'de', 'es', 'nl', 'de', 'nl', 'nl', 'es', 'fr', 'it', 'en', 'it', 'de', 'de', 'en', 'de', 'nl', 'fr', 'fr', 'nl', 'fr', 'fr', 'es', 'it', 'es', 'es', 'de', 'de', 'it', 'fr', 'en', 'it', 'it', 'de', 'nl', 'it', 'es', 'de', 'nl', 'it', 'es', 'de', 'nl', 'en', 'es', 'de', 'it', 'de', 'en', 'es', 'it', 'de', 'fr', 'de', 'fr', 'it', 'es', 'fr', 'de', 'fr', 'en', 'it', 'es', 'es', 'en', 'de', 'es', 'en', 'fr', 'de', 'nl', 'es', 'fr', 'en', 'it', 'it', 'en', 'es', 'it', 'de', 'es', 'de', 'es', 'de', 'it', 'de', 'en', 'es', 'en', 'de', 'nl', 'de', 'en', 'it', 'nl', 'en', 'nl', 'en', 'en', 'nl', 'en', 'nl', 'de', 'en', 'es', 'it', 'de', 'nl', 'es', 'de', 'en', 'fr', 'es', 'nl', 'it', 'it', 'it', 'en', 'es', 'it', 'en', 'es', 'it', 'de', 'it', 'nl', 'fr', 'en', 'es', 'de', 'de', 'en', 'en', 'it', 'fr', 'nl', 'it', 'fr', 'fr', 'de', 'it', 'fr', 'it', 'nl', 'es', 'en', 'it', 'it', 'de', 'en', 'en', 'de', 'it', 'fr', 'it', 'it', 'de', 'it', 'es', 'it', 'es', 'en', 'es', 'en', 'de', 'en', 'it', 'fr', 'fr', 'es', 'fr', 'it', 'fr', 'fr', 'es', 'es', 'nl', 'es', 'fr', 'fr', 'nl', 'en', 'fr', 'en', 'it', 'en', 'fr', 'fr', 'de', 'es', 'fr', 'de', 'fr', 'fr', 'de', 'nl', 'it', 'fr', 'nl', 'fr', 'en', 'fr', 'it', 'fr', 'de', 'it', 'fr', 'fr', 'de', 'it', 'it', 'de', 'fr', 'en', 'de', 'de', 'de', 'es', 'es', 'it', 'it', 'fr', 'de', 'en', 'fr', 'en', 'en', 'fr', 'en', 'it', 'es', 'it', 'fr', 'it', 'en', 'fr', 'en', 'nl', 'en', 'nl', 'it', 'fr', 'en', 'it', 'nl', 'de', 'de', 'de', 'nl', 'nl', 'fr', 'fr', 'es', 'es', 'en', 'en', 'fr', 'it', 'nl', 'it', 'fr', 'es', 'nl', 'fr', 'en', 'it', 'fr', 'nl', 'en', 'en', 'it', 'nl', 'en', 'it', 'es', 'de', 'de', 'es', 'it', 'en', 'fr', 'en', 'de', 'de', 'es', 'en', 'fr', 'it', 'nl', 'it', 'es', 'de', 'nl', 'en', 'nl', 'fr', 'es', 'de', 'de', 'de', 'es', 'de', 'it', 'it', 'fr', 'nl', 'it', 'en', 'es', 'nl', 'nl', 'fr', 'es', 'de', 'en', 'it', 'de', 'fr', 'nl', 'nl', 'en', 'it', 'de', 'en', 'nl', 'es', 'en', 'fr', 'de', 'en', 'it', 'nl', 'es', 'nl', 'en', 'nl', 'nl', 'nl', 'it', 'es', 'fr', 'en', 'en', 'de', 'it', 'it', 'nl', 'es', 'it', 'en', 'it', 'en', 'nl', 'es', 'nl', 'es', 'it', 'de', 'nl', 'fr', 'es', 'de', 'nl', 'it', 'de', 'it', 'it', 'it', 'de', 'fr', 'fr', 'fr', 'nl', 'it', 'en', 'fr', 'en', 'de', 'fr', 'es', 'nl', 'de', 'es', 'nl', 'it', 'de', 'fr', 'nl', 'fr', 'es', 'en', 'es', 'fr', 'fr', 'fr', 'en', 'en', 'es', 'en', 'nl', 'de', 'en', 'en', 'nl', 'en', 'es', 'en', 'en', 'it', 'fr', 'nl', 'en', 'it', 'de', 'es', 'fr', 'de', 'fr', 'it', 'fr', 'de', 'it', 'nl', 'es', 'es', 'it', 'de', 'it', 'en', 'en', 'nl', 'de', 'es', 'fr', 'nl', 'nl', 'es', 'es', 'de', 'fr', 'nl', 'nl', 'de', 'it', 'es', 'it', 'it', 'fr', 'fr', 'nl', 'de', 'fr', 'fr', 'en', 'nl', 'es', 'es', 'en', 'fr', 'de', 'nl', 'de', 'en', 'en', 'it', 'nl', 'en', 'en', 'de', 'en', 'nl', 'en', 'en', 'nl', 'it', 'en', 'en', 'en', 'fr', 'nl', 'fr', 'nl', 'es', 'es', 'de', 'nl', 'en', 'it', 'it', 'fr', 'es', 'de', 'fr', 'fr', 'nl', 'es', 'es', 'de', 'it', 'fr', 'de', 'fr', 'it', 'es', 'it', 'de', 'it', 'de', 'de', 'en', 'fr', 'en', 'de', 'es', 'nl', 'it', 'es', 'de', 'fr', 'nl', 'es', 'it', 'fr', 'es', 'it', 'en', 'es', 'en', 'es', 'fr', 'es', 'de', 'it', 'fr', 'de', 'de', 'nl', 'es', 'nl', 'nl', 'nl', 'en', 'nl', 'fr', 'nl', 'fr', 'es', 'it', 'en', 'de', 'en', 'en', 'es', 'fr', 'fr', 'fr', 'fr', 'de', 'it', 'es', 'it', 'fr', 'es', 'fr', 'nl', 'it', 'de', 'en', 'de', 'es', 'nl', 'nl', 'en', 'nl', 'fr', 'it', 'fr', 'es', 'de', 'de', 'es', 'de', 'es', 'it', 'it', 'it', 'es', 'nl', 'de', 'es', 'it', 'es', 'nl', 'fr', 'it', 'nl', 'it', 'nl', 'it', 'en', 'nl', 'es', 'en', 'it', 'it', 'de', 'fr', 'es', 'fr', 'es', 'en', 'it', 'de', 'nl', 'de', 'es', 'de', 'fr', 'nl', 'es', 'en', 'fr', 'it', 'fr', 'de', 'nl', 'fr', 'de', 'nl', 'nl', 'de', 'de', 'it', 'en', 'en', 'es', 'de', 'fr', 'it', 'nl', 'nl', 'it', 'fr', 'en', 'it', 'fr', 'nl', 'it', 'en', 'it', 'en', 'de', 'nl', 'nl', 'de', 'es', 'it', 'fr', 'it', 'es', 'fr', 'it', 'nl', 'es', 'en', 'it', 'nl', 'es', 'fr', 'en', 'en', 'fr', 'fr', 'de', 'it', 'es', 'de', 'nl', 'es', 'es', 'de', 'de', 'it', 'en', 'en', 'de', 'it', 'en', 'en', 'it', 'nl', 'it', 'nl', 'fr', 'es', 'it', 'en', 'en', 'de', 'fr', 'es', 'de', 'de', 'en', 'es', 'en', 'it', 'de', 'de', 'it', 'de', 'de', 'de', 'nl', 'en', 'de', 'nl', 'it', 'nl', 'it', 'fr', 'en', 'es', 'de', 'es', 'es', 'de', 'es', 'de', 'de', 'en', 'fr', 'en', 'en', 'en', 'en', 'fr', 'fr', 'nl', 'fr', 'fr', 'es', 'es', 'fr', 'it', 'de', 'nl', 'es', 'fr', 'de', 'nl', 'de', 'fr', 'nl', 'fr', 'it', 'nl', 'nl', 'de', 'de', 'fr', 'en', 'es', 'nl', 'en', 'fr', 'es', 'it', 'it', 'de', 'es', 'en', 'nl', 'de', 'de', 'de', 'es', 'nl', 'en', 'es', 'it', 'de', 'en', 'en', 'fr', 'nl', 'de', 'de', 'nl', 'es', 'it', 'it', 'de', 'fr', 'de', 'es', 'es', 'nl', 'it', 'de', 'es', 'es', 'fr', 'fr', 'it', 'de', 'es', 'nl', 'fr', 'es', 'de', 'fr', 'nl', 'fr', 'en', 'fr', 'en', 'it', 'en', 'de', 'fr', 'en', 'es', 'nl', 'de', 'it', 'de', 'nl', 'de', 'de', 'de', 'it', 'en', 'nl', 'es', 'en', 'fr', 'de', 'es', 'es', 'es', 'nl', 'de', 'en', 'en', 'de', 'en', 'nl', 'nl', 'en', 'en', 'es', 'de', 'de', 'en', 'nl', 'en', 'de', 'en', 'en', 'fr', 'es', 'it', 'es', 'fr', 'de', 'en', 'es', 'de', 'en', 'nl', 'en', 'de', 'es', 'it', 'nl', 'fr', 'de', 'nl', 'nl', 'en', 'es', 'nl', 'de', 'de', 'en', 'en', 'de', 'es', 'en', 'it', 'de', 'nl', 'es', 'fr', 'it', 'nl', 'it', 'fr', 'en', 'it', 'nl', 'it', 'fr', 'en', 'de', 'fr', 'it', 'fr', 'nl', 'es', 'nl', 'es', 'fr', 'it', 'es', 'fr', 'en', 'it', 'de', 'es', 'fr', 'it', 'es', 'es', 'it', 'fr', 'es', 'de', 'fr', 'de', 'nl', 'es', 'fr', 'it', 'de', 'nl', 'nl', 'fr', 'de', 'de', 'fr', 'de', 'it', 'fr', 'es', 'fr', 'de', 'fr', 'en', 'es', 'it', 'fr', 'es', 'en', 'es', 'en', 'it', 'de', 'es', 'en', 'en', 'fr', 'de', 'fr', 'de', 'en', 'nl', 'en', 'it', 'en', 'de', 'de', 'de', 'fr', 'nl', 'es', 'fr', 'en', 'nl', 'es', 'es', 'fr', 'es', 'nl', 'en', 'es', 'it', 'de', 'es', 'fr', 'fr', 'fr', 'fr', 'fr', 'fr', 'de', 'en', 'en', 'nl', 'it', 'nl', 'fr', 'en', 'nl', 'it', 'nl', 'es', 'it', 'nl', 'it', 'en', 'it', 'fr', 'nl', 'de', 'de', 'nl', 'en', 'fr', 'it', 'fr', 'es', 'de', 'en', 'es', 'nl', 'nl', 'it', 'en', 'it', 'de', 'de', 'en', 'de', 'it', 'fr', 'nl', 'en', 'fr', 'fr', 'nl', 'it', 'it', 'de', 'de', 'it', 'it', 'fr', 'nl', 'it', 'es', 'de', 'nl', 'es', 'de', 'de', 'it', 'de', 'it', 'fr', 'de', 'en', 'de', 'it', 'en', 'es', 'es', 'nl', 'en', 'nl', 'nl', 'fr', 'en', 'es', 'en', 'it', 'en', 'it', 'es', 'de', 'nl', 'nl', 'it', 'it', 'nl', 'fr', 'de', 'de', 'es', 'fr', 'nl', 'fr', 'it', 'en', 'en', 'en', 'es', 'en', 'en', 'nl', 'nl', 'es', 'nl', 'fr', 'es', 'nl', 'fr', 'en', 'nl', 'it', 'de', 'nl', 'it', 'en', 'fr', 'it', 'nl', 'de', 'es', 'fr', 'fr', 'en', 'fr', 'de', 'es', 'it', 'en', 'de', 'fr', 'de', 'es', 'es', 'en', 'nl', 'it', 'de', 'en', 'fr', 'en', 'de', 'es', 'de', 'nl', 'it', 'es', 'en', 'es', 'es', 'en', 'es', 'nl', 'it', 'nl', 'es', 'fr', 'fr', 'es', 'nl', 'en', 'nl', 'nl', 'en', 'it', 'nl', 'de', 'it', 'de', 'en', 'en', 'en', 'de', 'de', 'it', 'fr', 'es', 'fr', 'it', 'fr', 'fr', 'es', 'it', 'fr', 'fr', 'fr', 'en', 'it', 'es', 'it', 'it', 'nl', 'it', 'de', 'en', 'es', 'nl', 'fr', 'es', 'de', 'en', 'en', 'fr', 'it', 'nl', 'fr', 'es', 'it', 'nl', 'nl', 'en', 'fr', 'it', 'de', 'it', 'it', 'en', 'es', 'fr', 'es', 'de', 'en', 'es', 'es', 'nl', 'en', 'de', 'it', 'de', 'fr', 'nl', 'fr', 'es', 'es', 'de', 'nl', 'fr', 'de', 'it', 'nl', 'it', 'en', 'it', 'de', 'nl', 'fr', 'de', 'en', 'fr', 'it', 'en', 'fr', 'en', 'nl', 'es', 'fr', 'de', 'en', 'en', 'nl', 'nl', 'fr', 'fr', 'en', 'fr', 'es']\n"
     ]
    }
   ],
   "source": [
    "print y_train"
   ]
  },
  {
   "cell_type": "code",
   "execution_count": 7,
   "metadata": {},
   "outputs": [],
   "source": [
    "import re\n",
    "\n",
    "def remove_noise(document):\n",
    "    noise_pattern = re.compile(\"|\".join([\"http\\S+\", \"\\@\\w+\", \"\\#\\w+\"]))\n",
    "    clean_text = re.sub(noise_pattern, \"\", document)\n",
    "    return clean_text.strip()"
   ]
  },
  {
   "cell_type": "code",
   "execution_count": 8,
   "metadata": {
    "scrolled": true
   },
   "outputs": [
    {
     "data": {
      "text/plain": [
       "'Trump images are now more popular than cat gifs.'"
      ]
     },
     "execution_count": 8,
     "metadata": {},
     "output_type": "execute_result"
    }
   ],
   "source": [
    "remove_noise(\"Trump images are now more popular than cat gifs. @trump #trends http://www.trumptrends.html\")"
   ]
  },
  {
   "cell_type": "code",
   "execution_count": 11,
   "metadata": {},
   "outputs": [],
   "source": [
    "from sklearn.feature_extraction.text import CountVectorizer\n",
    "\n",
    "vec = CountVectorizer(\n",
    "    lowercase=True,     # lowercase the text\n",
    "    analyzer='char_wb', # tokenise by character ngrams\n",
    "    ngram_range=(1,2),  # use ngrams of size 1 and 2\n",
    "    max_features=1000,  # keep the most common 1000 ngrams\n",
    "    preprocessor=remove_noise\n",
    ")\n",
    "vec.fit(x_train)\n",
    "\n",
    "def get_features(x):\n",
    "    vec.transform(x)"
   ]
  },
  {
   "cell_type": "code",
   "execution_count": 12,
   "metadata": {},
   "outputs": [
    {
     "data": {
      "text/plain": [
       "MultinomialNB(alpha=1.0, class_prior=None, fit_prior=True)"
      ]
     },
     "execution_count": 12,
     "metadata": {},
     "output_type": "execute_result"
    }
   ],
   "source": [
    "from sklearn.naive_bayes import MultinomialNB\n",
    "classifier = MultinomialNB()\n",
    "classifier.fit(vec.transform(x_train), y_train)"
   ]
  },
  {
   "cell_type": "code",
   "execution_count": 14,
   "metadata": {},
   "outputs": [
    {
     "data": {
      "text/plain": [
       "0.9770621967357741"
      ]
     },
     "execution_count": 14,
     "metadata": {},
     "output_type": "execute_result"
    }
   ],
   "source": [
    "classifier.score(vec.transform(x_test), y_test)"
   ]
  },
  {
   "cell_type": "markdown",
   "metadata": {},
   "source": [
    "## 规范化，写为class"
   ]
  },
  {
   "cell_type": "code",
   "execution_count": 15,
   "metadata": {},
   "outputs": [],
   "source": [
    "import re\n",
    "\n",
    "from sklearn.feature_extraction.text import CountVectorizer\n",
    "from sklearn.model_selection import train_test_split\n",
    "from sklearn.naive_bayes import MultinomialNB\n",
    "\n",
    "\n",
    "class LanguageDetector():\n",
    "\n",
    "    def __init__(self, classifier=MultinomialNB()):\n",
    "        self.classifier = classifier\n",
    "        self.vectorizer = CountVectorizer(ngram_range=(1,2), max_features=1000, preprocessor=self._remove_noise)\n",
    "\n",
    "    def _remove_noise(self, document):\n",
    "        noise_pattern = re.compile(\"|\".join([\"http\\S+\", \"\\@\\w+\", \"\\#\\w+\"]))\n",
    "        clean_text = re.sub(noise_pattern, \"\", document)\n",
    "        return clean_text\n",
    "\n",
    "    def features(self, X):\n",
    "        return self.vectorizer.transform(X)\n",
    "\n",
    "    def fit(self, X, y):\n",
    "        self.vectorizer.fit(X)\n",
    "        self.classifier.fit(self.features(X), y)\n",
    "\n",
    "    def predict(self, x):\n",
    "        return self.classifier.predict(self.features([x]))\n",
    "\n",
    "    def score(self, X, y):\n",
    "        return self.classifier.score(self.features(X), y)"
   ]
  },
  {
   "cell_type": "code",
   "execution_count": 16,
   "metadata": {},
   "outputs": [
    {
     "name": "stdout",
     "output_type": "stream",
     "text": [
      "['en']\n",
      "0.9770621967357741\n"
     ]
    }
   ],
   "source": [
    "in_f = open('data.csv')\n",
    "lines = in_f.readlines()\n",
    "in_f.close()\n",
    "dataset = [(line.strip()[:-3], line.strip()[-2:]) for line in lines]\n",
    "x, y = zip(*dataset)\n",
    "x_train, x_test, y_train, y_test = train_test_split(x, y, random_state=1)\n",
    "\n",
    "language_detector = LanguageDetector()\n",
    "language_detector.fit(x_train, y_train)\n",
    "print(language_detector.predict('This is an English sentence'))\n",
    "print(language_detector.score(x_test, y_test))"
   ]
  }
 ],
 "metadata": {
  "kernelspec": {
   "display_name": "Python 3",
   "language": "python",
   "name": "python3"
  },
  "language_info": {
   "codemirror_mode": {
    "name": "ipython",
    "version": 3
   },
   "file_extension": ".py",
   "mimetype": "text/x-python",
   "name": "python",
   "nbconvert_exporter": "python",
   "pygments_lexer": "ipython3",
   "version": "3.6.3"
  }
 },
 "nbformat": 4,
 "nbformat_minor": 2
}
